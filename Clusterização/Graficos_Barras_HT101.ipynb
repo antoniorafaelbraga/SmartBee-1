{
 "cells": [
  {
   "cell_type": "code",
   "execution_count": 12,
   "metadata": {},
   "outputs": [],
   "source": [
    "import numpy as np\n",
    "import pandas as pd\n",
    "import matplotlib.pyplot as plt\n",
    "from datetime import datetime as dt\n",
    "import matplotlib.dates as mdates"
   ]
  },
  {
   "cell_type": "code",
   "execution_count": 17,
   "metadata": {},
   "outputs": [],
   "source": [
    "data_file = 'HT101_original_05-09-2017_30-09-2017_raw.csv'\n",
    "date_col = 'Date'\n",
    "label_col = 'KMeansLabel'\n",
    "plot_title = 'HT101\\n09/17'\n",
    "colors = ['#a1d0e7', '#ffb9b5', '#b5ffb9', '#f4ff88', '#f9bc86', '#b7ffff', '#d6d6d6', '#534e42', '#FF530D', '#FF0DFF',\n",
    "          '#1B570C', '#570C2D', '#E80C97','#E7FFAF']\n",
    "#patterns = ['-', '+', 'x', '\\\\', '*', 'o', 'O', '.', '/']\n"
   ]
  },
  {
   "cell_type": "code",
   "execution_count": 18,
   "metadata": {},
   "outputs": [
    {
     "data": {
      "image/png": "[encoded data removed]",
      "text/plain": [
       "<matplotlib.figure.Figure at 0x2ce51585d68>"
      ]
     },
     "metadata": {},
     "output_type": "display_data"
    }
   ],
   "source": [
    "def to_mydate(timestamp):\n",
    "\treturn (mdates.date2num(dt.strptime(timestamp.rpartition('-')[0],'%m')))\n",
    "\n",
    "dataframe = pd.read_csv(data_file, usecols=[date_col,label_col])\n",
    "\n",
    "dataframe[date_col] = dataframe[date_col].apply(to_mydate)\n",
    "months = dataframe[date_col].unique()\n",
    "labels = np.sort(dataframe[label_col].unique())\n",
    "\n",
    "count_total = []\n",
    "for date in months:\n",
    "\tmonth = dataframe[dataframe[date_col]==date]\n",
    "\tcount_month = []\n",
    "\tfor label in labels:\n",
    "\t\tcount = month[month[label_col]==label]\n",
    "\t\tcount_month.append(len(count[count==True]))\n",
    "\tcount_total.append(count_month)\n",
    "\n",
    "totals=pd.DataFrame(count_total).sum(axis=1).tolist()\n",
    "\n",
    "percent_total = []\n",
    "for i in range(len(months)):\n",
    "\tpercent_month = []\n",
    "\tfor j in labels:\n",
    "\t\tpercent_month.append(count_total[i][j]/totals[i]*100)\n",
    "\tpercent_total.append(percent_month)\n",
    "\n",
    "percent_total = list(map(list, zip(*percent_total)))\n",
    "\n",
    "fig, ax = plt.subplots()\n",
    "for i in labels:\n",
    "\tif i == 0:\n",
    "\t\tb = percent_total[i]\n",
    "\t\tplt.bar(months, percent_total[i], width=20, label='Cluster '+str(i),\n",
    "\t\t#plt.bar(months, percent_total[i], width=20, label='Cluster '+str(i), zorder=3,\n",
    "\t\t\t#color='white', edgecolor='black', hatch=patterns[i])\n",
    "\t\t\tcolor=colors[i], edgecolor='white')\n",
    "\telse:\n",
    "\t\tplt.bar(months, percent_total[i], bottom=b, width=20, label='Cluster '+str(i),\n",
    "\t\t#plt.bar(months, percent_total[i], bottom=b, width=20, label='Cluster '+str(i), zorder=3,\n",
    "\t\t\t#color='white', edgecolor='black', hatch=patterns[i])\n",
    "\t\t\tcolor=colors[i], edgecolor='white')\n",
    "\t\tb = [i+j for i,j in zip(b, percent_total[i])]\n",
    "        \n",
    "plt.title(plot_title)\n",
    "plt.xlabel('Mês/Ano', fontsize= 13)\n",
    "plt.ylabel('Proporção de clusters (%)', fontsize= 13)\n",
    "#ax.grid(linestyle='--', alpha=0.5, zorder=0)\n",
    "ax.set_ylim([0,100.5])\n",
    "ax.xaxis.set_major_locator(mdates.AutoDateLocator())\n",
    "ax.xaxis.set_major_formatter(mdates.DateFormatter('%m/%y'))\n",
    "plt.legend(loc='upper left', bbox_to_anchor=(1,1), ncol=1)\n",
    "plt.show()"
   ]
  },
  {
   "cell_type": "code",
   "execution_count": 44,
   "metadata": {},
   "outputs": [
    {
     "data": {
      "image/png": "[encoded data removed]",
      "text/plain": [
       "<matplotlib.figure.Figure at 0x2618a8e4dd8>"
      ]
     },
     "metadata": {},
     "output_type": "display_data"
    }
   ],
   "source": [
    "import numpy as np\n",
    "import pandas as pd\n",
    "import matplotlib.pyplot as plt\n",
    "from datetime import datetime as dt\n",
    "import matplotlib.dates as mdates\n",
    "\n",
    "data_file = 'HT101_original_04-04-2017_31-05-2017_raw_modified.csv'\n",
    "date_col = 'Date'\n",
    "label_col = 'KMeansLabel'\n",
    "plot_title = 'Arnas 1\\n01/17 - 12/17'\n",
    "colors = ['#a1d0e7', '#ffb9b5', '#b5ffb9', '#f4ff88', '#f9bc86', '#b7ffff', '#d6d6d6', '#534e42']\n",
    "#patterns = ['-', '+', 'x', '\\\\', '*', 'o', 'O', '.', '/']\n",
    "\n",
    "def to_mydate(timestamp):\n",
    "\treturn (mdates.date2num(dt.strptime(timestamp.rpartition('-')[0], '%m')))\n",
    "\n",
    "dataframe = pd.read_csv(data_file, usecols=[date_col,label_col])\n",
    "\n",
    "dataframe[date_col] = dataframe[date_col].apply(to_mydate)\n",
    "months = dataframe[date_col].unique()\n",
    "labels = np.sort(dataframe[label_col].unique())\n",
    "\n",
    "count_total = []\n",
    "for date in months:\n",
    "\tmonth = dataframe[dataframe[date_col]==date]\n",
    "\tcount_month = []\n",
    "\tfor label in labels:\n",
    "\t\tcount = month[month[label_col]==label]\n",
    "\t\tcount_month.append(len(count[count==True]))\n",
    "\tcount_total.append(count_month)\n",
    "\n",
    "totals=pd.DataFrame(count_total).sum(axis=1).tolist()\n",
    "\n",
    "percent_total = []\n",
    "for i in range(len(months)):\n",
    "\tpercent_month = []\n",
    "\tfor j in labels:\n",
    "\t\tpercent_month.append(count_total[i][j]/totals[i]*100)\n",
    "\tpercent_total.append(percent_month)\n",
    "\n",
    "percent_total = list(map(list, zip(*percent_total)))\n",
    "\n",
    "fig, ax = plt.subplots()\n",
    "for i in labels:\n",
    "\tif i == 0:\n",
    "\t\tb = percent_total[i]\n",
    "\t\tplt.bar(months, percent_total[i], width=20, label='Cluster '+str(i),\n",
    "\t\t#plt.bar(months, percent_total[i], width=20, label='Cluster '+str(i), zorder=3,\n",
    "\t\t\t#color='white', edgecolor='black', hatch=patterns[i])\n",
    "\t\t\tcolor=colors[i], edgecolor='white')\n",
    "\telse:\n",
    "\t\tplt.bar(months, percent_total[i], bottom=b, width=20, label='Cluster '+str(i),\n",
    "\t\t#plt.bar(months, percent_total[i], bottom=b, width=20, label='Cluster '+str(i), zorder=3,\n",
    "\t\t\t#color='white', edgecolor='black', hatch=patterns[i])\n",
    "\t\t\tcolor=colors[i], edgecolor='white')\n",
    "\t\tb = [i+j for i,j in zip(b, percent_total[i])]\n",
    "\n",
    "plt.title(plot_title)\n",
    "plt.xlabel('Mês/Ano', fontsize= 13)\n",
    "plt.ylabel('Proporção de clusters (%)', fontsize= 13)\n",
    "#ax.grid(linestyle='--', alpha=0.5, zorder=0)\n",
    "ax.set_ylim([0,100.5])\n",
    "ax.xaxis.set_major_locator(mdates.AutoDateLocator())\n",
    "ax.xaxis.set_major_formatter(mdates.DateFormatter('%m/%y'))\n",
    "plt.legend(loc='upper left', bbox_to_anchor=(1,1), ncol=1)\n",
    "plt.show()"
   ]
  }
 ],
 "metadata": {
  "kernelspec": {
   "display_name": "Python 3",
   "language": "python",
   "name": "python3"
  },
  "language_info": {
   "codemirror_mode": {
    "name": "ipython",
    "version": 3
   },
   "file_extension": ".py",
   "mimetype": "text/x-python",
   "name": "python",
   "nbconvert_exporter": "python",
   "pygments_lexer": "ipython3",
   "version": "3.6.4"
  }
 },
 "nbformat": 4,
 "nbformat_minor": 2
}
